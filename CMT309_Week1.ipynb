{
  "nbformat": 4,
  "nbformat_minor": 0,
  "metadata": {
    "colab": {
      "name": "CMT309 Week1.ipynb",
      "provenance": [],
      "collapsed_sections": [],
      "authorship_tag": "ABX9TyNU/GhIJCWHDA2JQxxSzfGa",
      "include_colab_link": true
    },
    "kernelspec": {
      "name": "python3",
      "display_name": "Python 3"
    }
  },
  "cells": [
    {
      "cell_type": "markdown",
      "metadata": {
        "id": "view-in-github",
        "colab_type": "text"
      },
      "source": [
        "<a href=\"https://colab.research.google.com/github/flukekas/flukekas.github.io/blob/master/CMT309_Week1.ipynb\" target=\"_parent\"><img src=\"https://colab.research.google.com/assets/colab-badge.svg\" alt=\"Open In Colab\"/></a>"
      ]
    },
    {
      "cell_type": "code",
      "metadata": {
        "id": "NNiz_EgCWMUs",
        "outputId": "634f53c7-f010-448e-9ad8-ad5b62363fcc",
        "colab": {
          "base_uri": "https://localhost:8080/"
        }
      },
      "source": [
        "a = 10 // 3\n",
        "print (a)"
      ],
      "execution_count": null,
      "outputs": [
        {
          "output_type": "stream",
          "text": [
            "3\n"
          ],
          "name": "stdout"
        }
      ]
    },
    {
      "cell_type": "code",
      "metadata": {
        "id": "tLa54DR8WZYB",
        "outputId": "aeeb0d94-fa2c-4bae-f1bf-50d6d8224822",
        "colab": {
          "base_uri": "https://localhost:8080/"
        }
      },
      "source": [
        "b = 11 % 4\n",
        "print (b)"
      ],
      "execution_count": null,
      "outputs": [
        {
          "output_type": "stream",
          "text": [
            "3\n"
          ],
          "name": "stdout"
        }
      ]
    },
    {
      "cell_type": "markdown",
      "metadata": {
        "id": "ey2eyjcFWliz"
      },
      "source": [
        "[3] is a division [4] shows the remainder. [5] does the addition\n"
      ]
    },
    {
      "cell_type": "code",
      "metadata": {
        "id": "iBDxiH7MWrH7",
        "outputId": "a39c1bfd-2f2b-4434-cce8-1dad362a8898",
        "colab": {
          "base_uri": "https://localhost:8080/"
        }
      },
      "source": [
        "print (a, '+', b, '=',a+b)"
      ],
      "execution_count": null,
      "outputs": [
        {
          "output_type": "stream",
          "text": [
            "3 + 3 = 6\n"
          ],
          "name": "stdout"
        }
      ]
    },
    {
      "cell_type": "code",
      "metadata": {
        "id": "ecmcBpwyW7Nr",
        "outputId": "939d750a-3724-470d-90ff-0c2695f4beb8",
        "colab": {
          "base_uri": "https://localhost:8080/"
        }
      },
      "source": [
        "a"
      ],
      "execution_count": null,
      "outputs": [
        {
          "output_type": "execute_result",
          "data": {
            "text/plain": [
              "3"
            ]
          },
          "metadata": {
            "tags": []
          },
          "execution_count": 6
        }
      ]
    },
    {
      "cell_type": "markdown",
      "metadata": {
        "id": "UzgwnpsaXHsI"
      },
      "source": [
        "If you want something specifically printed, use the 'print' command."
      ]
    },
    {
      "cell_type": "code",
      "metadata": {
        "id": "WcTlge69XnQp",
        "outputId": "d61247e9-ef27-4a93-ea69-c3e115bfd766",
        "colab": {
          "base_uri": "https://localhost:8080/",
          "height": 52
        }
      },
      "source": [
        "a, b, c, d = 7,8,10,2\n",
        "print ('a+b*c-(b-a)*d', '=', a+b*c-(b-a)*d)\n",
        "'7+8*10-1*2'\n",
        "'7+80-2'\n",
        "'87-2'"
      ],
      "execution_count": null,
      "outputs": [
        {
          "output_type": "stream",
          "text": [
            "a+b*c-(b-a)*d = 85\n"
          ],
          "name": "stdout"
        },
        {
          "output_type": "execute_result",
          "data": {
            "application/vnd.google.colaboratory.intrinsic+json": {
              "type": "string"
            },
            "text/plain": [
              "'87-2'"
            ]
          },
          "metadata": {
            "tags": []
          },
          "execution_count": 13
        }
      ]
    },
    {
      "cell_type": "code",
      "metadata": {
        "id": "udrapQ6-YnWF",
        "outputId": "67463318-16d0-46d7-937a-2175d90fc5f7",
        "colab": {
          "base_uri": "https://localhost:8080/"
        }
      },
      "source": [
        "e, f, g = None, True, False\n",
        "print (type(f))\n",
        "print (f+1)\n",
        "print (int(g))\n",
        "print (type (e))"
      ],
      "execution_count": null,
      "outputs": [
        {
          "output_type": "stream",
          "text": [
            "<class 'bool'>\n",
            "2\n",
            "0\n",
            "<class 'NoneType'>\n"
          ],
          "name": "stdout"
        }
      ]
    },
    {
      "cell_type": "code",
      "metadata": {
        "id": "CyE9F4kDZQ_R",
        "outputId": "b7d07d93-5225-4101-dc06-8f521ce2b650",
        "colab": {
          "base_uri": "https://localhost:8080/"
        }
      },
      "source": [
        "'a is 10 because a and a+ is added together' \n",
        "'star appears multiple times depending on the number in the variable. E.g. b=2 means 2 stars. c=5 means 5 stars'\n",
        "a=7; a+=3; b=2; c=5\n",
        "print (a, b, c, sep='*'*b, end = '.')\n"
      ],
      "execution_count": null,
      "outputs": [
        {
          "output_type": "stream",
          "text": [
            "10**2**5."
          ],
          "name": "stdout"
        }
      ]
    },
    {
      "cell_type": "markdown",
      "metadata": {
        "id": "o1spsavbcw_i"
      },
      "source": [
        "Semi colons seperates the variable in the line. Used to save space. Same as declaring in every line."
      ]
    },
    {
      "cell_type": "code",
      "metadata": {
        "id": "OXZ47okLbYDI",
        "outputId": "48e6e9ae-a65c-473f-c006-c9a37f604332",
        "colab": {
          "base_uri": "https://localhost:8080/",
          "height": 35
        }
      },
      "source": [
        "'*'*6 'Multiplying a string with a number'"
      ],
      "execution_count": null,
      "outputs": [
        {
          "output_type": "execute_result",
          "data": {
            "application/vnd.google.colaboratory.intrinsic+json": {
              "type": "string"
            },
            "text/plain": [
              "'******'"
            ]
          },
          "metadata": {
            "tags": []
          },
          "execution_count": 24
        }
      ]
    },
    {
      "cell_type": "code",
      "metadata": {
        "id": "z5k14qTTaCia",
        "outputId": "bf539f84-b91c-4584-d594-9efc14849668",
        "colab": {
          "base_uri": "https://localhost:8080/"
        }
      },
      "source": [
        "price = 3.46\n",
        "num = 45\n",
        "fruit = 'apple'\n",
        "print (\"The total price for \", num, fruit, \"s is\", price*num, \".\")\n",
        "'multiplied price and num to print a statement'"
      ],
      "execution_count": null,
      "outputs": [
        {
          "output_type": "stream",
          "text": [
            "The total price for  45 apple s is 155.7 .\n"
          ],
          "name": "stdout"
        }
      ]
    },
    {
      "cell_type": "code",
      "metadata": {
        "id": "0ygX4tqSapgb",
        "outputId": "5e8d9e8a-3d2a-499f-db8e-aefd4b3b8e8b",
        "colab": {
          "base_uri": "https://localhost:8080/"
        }
      },
      "source": [
        "width = 17\n",
        "height = 12.0\n",
        "delimiter = '.'\n",
        "print (width)\n",
        "print (width/2)\n",
        "print (width // 2) \n",
        "'// returns a number without the values after the decimal. executes the integer part'\n",
        "print (height // 7)\n",
        "print (height / 7)"
      ],
      "execution_count": null,
      "outputs": [
        {
          "output_type": "stream",
          "text": [
            "17\n",
            "8.5\n",
            "8\n",
            "1.0\n",
            "1.7142857142857142\n"
          ],
          "name": "stdout"
        }
      ]
    },
    {
      "cell_type": "code",
      "metadata": {
        "id": "_MBdZvZ3eSqp",
        "outputId": "5d57957a-e6dc-4f93-b069-b8e0c6753054",
        "colab": {
          "base_uri": "https://localhost:8080/"
        }
      },
      "source": [
        "a = -10\n",
        "b = c = 20\n",
        "d = 30\n",
        "a+=5\n",
        "print (a)\n",
        "b *=3\n",
        "c %=3\n",
        "d //=3\n",
        "'-10+5, 20*3, 20/3 remainder of 2, 30//3''a+=5 is the same as a=a+5'\n",
        "print (a,b,c,d)\n"
      ],
      "execution_count": null,
      "outputs": [
        {
          "output_type": "stream",
          "text": [
            "-5\n",
            "-5 60 2 10\n"
          ],
          "name": "stdout"
        }
      ]
    },
    {
      "cell_type": "code",
      "metadata": {
        "id": "e7QfZQ7Pf96Y",
        "outputId": "988fed4e-a2d1-40dd-9bf1-ad69d85031c5",
        "colab": {
          "base_uri": "https://localhost:8080/",
          "height": 198
        }
      },
      "source": [
        "a = \"100\"\n",
        "b = 200\n",
        "print(a+b) 'a needs to be converted to an integer so...'"
      ],
      "execution_count": null,
      "outputs": [
        {
          "output_type": "error",
          "ename": "TypeError",
          "evalue": "ignored",
          "traceback": [
            "\u001b[0;31m---------------------------------------------------------------------------\u001b[0m",
            "\u001b[0;31mTypeError\u001b[0m                                 Traceback (most recent call last)",
            "\u001b[0;32m<ipython-input-53-d83a77a28601>\u001b[0m in \u001b[0;36m<module>\u001b[0;34m()\u001b[0m\n\u001b[1;32m      1\u001b[0m \u001b[0ma\u001b[0m \u001b[0;34m=\u001b[0m \u001b[0;34m\"100\"\u001b[0m\u001b[0;34m\u001b[0m\u001b[0;34m\u001b[0m\u001b[0m\n\u001b[1;32m      2\u001b[0m \u001b[0mb\u001b[0m \u001b[0;34m=\u001b[0m \u001b[0;36m200\u001b[0m\u001b[0;34m\u001b[0m\u001b[0;34m\u001b[0m\u001b[0m\n\u001b[0;32m----> 3\u001b[0;31m \u001b[0mprint\u001b[0m\u001b[0;34m(\u001b[0m\u001b[0ma\u001b[0m\u001b[0;34m+\u001b[0m\u001b[0mb\u001b[0m\u001b[0;34m)\u001b[0m\u001b[0;34m\u001b[0m\u001b[0;34m\u001b[0m\u001b[0m\n\u001b[0m",
            "\u001b[0;31mTypeError\u001b[0m: must be str, not int"
          ]
        }
      ]
    },
    {
      "cell_type": "code",
      "metadata": {
        "id": "eZUppbBIgO9L",
        "outputId": "495c069d-b173-4f20-f0d0-fce57e71d379",
        "colab": {
          "base_uri": "https://localhost:8080/"
        }
      },
      "source": [
        "a = \"100\"\n",
        "b = 200\n",
        "print (int(a)+b)"
      ],
      "execution_count": null,
      "outputs": [
        {
          "output_type": "stream",
          "text": [
            "300\n"
          ],
          "name": "stdout"
        }
      ]
    },
    {
      "cell_type": "code",
      "metadata": {
        "id": "H7CCpwqIgXFt",
        "outputId": "ff432932-6c18-49d5-944c-79ca0a1dd8ae",
        "colab": {
          "base_uri": "https://localhost:8080/"
        }
      },
      "source": [
        "'or print both values without the adding it'\n",
        "a = \"100\"\n",
        "b = 200\n",
        "print(a + str(b))"
      ],
      "execution_count": null,
      "outputs": [
        {
          "output_type": "stream",
          "text": [
            "100200\n"
          ],
          "name": "stdout"
        }
      ]
    },
    {
      "cell_type": "code",
      "metadata": {
        "id": "j13dcgvOgi7Q",
        "outputId": "70717a2a-b569-4dd6-f553-3219f676faf8",
        "colab": {
          "base_uri": "https://localhost:8080/"
        }
      },
      "source": [
        "'type of variable/function e.g. integer, float, boolean, string etc.'\n",
        "a = 1 \n",
        "type (a) \n"
      ],
      "execution_count": null,
      "outputs": [
        {
          "output_type": "execute_result",
          "data": {
            "text/plain": [
              "int"
            ]
          },
          "metadata": {
            "tags": []
          },
          "execution_count": 60
        }
      ]
    },
    {
      "cell_type": "code",
      "metadata": {
        "id": "b8YCZmJpg1QT",
        "outputId": "6c8a3d64-84b9-4996-9a93-ccd1e951f5a4",
        "colab": {
          "base_uri": "https://localhost:8080/"
        }
      },
      "source": [
        "a = 1\n",
        "b = a+1.0\n",
        "type (a+1.0)\n",
        "print (b)\n",
        "type (b)"
      ],
      "execution_count": null,
      "outputs": [
        {
          "output_type": "stream",
          "text": [
            "2.0\n"
          ],
          "name": "stdout"
        },
        {
          "output_type": "execute_result",
          "data": {
            "text/plain": [
              "float"
            ]
          },
          "metadata": {
            "tags": []
          },
          "execution_count": 62
        }
      ]
    },
    {
      "cell_type": "code",
      "metadata": {
        "id": "3vN4fC8LhDC7",
        "outputId": "b5101d7a-d336-4319-8050-a6c86750481d",
        "colab": {
          "base_uri": "https://localhost:8080/"
        }
      },
      "source": [
        "a = 1\n",
        "b = a+1.0\n",
        "type (input)"
      ],
      "execution_count": null,
      "outputs": [
        {
          "output_type": "execute_result",
          "data": {
            "text/plain": [
              "method"
            ]
          },
          "metadata": {
            "tags": []
          },
          "execution_count": 63
        }
      ]
    },
    {
      "cell_type": "code",
      "metadata": {
        "id": "FAmdHTnShtwo",
        "outputId": "49636d24-e64e-4a06-8b9e-b615f9d79c5c",
        "colab": {
          "base_uri": "https://localhost:8080/"
        }
      },
      "source": [
        "a = 1\n",
        "b = a+1.0\n",
        "print(type (input))\n",
        "\n",
        "c =1"
      ],
      "execution_count": null,
      "outputs": [
        {
          "output_type": "stream",
          "text": [
            "<class 'method'>\n"
          ],
          "name": "stdout"
        }
      ]
    },
    {
      "cell_type": "code",
      "metadata": {
        "id": "0X8mErzWi7hA",
        "outputId": "d040ee2e-abd3-47d1-d061-8e8c3eca141e",
        "colab": {
          "base_uri": "https://localhost:8080/"
        }
      },
      "source": [
        "print (\"Give me numbers to multiply\")\n",
        "\n",
        "num1 = float(input(\"Enter first number: \"))\n",
        "num2 = float(input(\"Enter second number: \"))\n",
        "num3 = float(input(\"Enter third number: \"))\n",
        "\n",
        "print (\"Here is the result...\")\n",
        "print (' {} x {} x {} = {}'.format(num1,num2,num3,num1*num2*num3))"
      ],
      "execution_count": null,
      "outputs": [
        {
          "output_type": "stream",
          "text": [
            "Give me numbers to multiply\n",
            "Enter first number: 45\n",
            "Enter second number: 34.999\n",
            "Enter third number: 34.789\n",
            "Here is the result...\n",
            " 45.0 x 34.999 x 34.789 = 54791.109495000004\n"
          ],
          "name": "stdout"
        }
      ]
    },
    {
      "cell_type": "code",
      "metadata": {
        "id": "Tqs6lcjXidVF",
        "outputId": "d0d1c05f-7134-4394-8b99-b7c9a32a1c0d",
        "colab": {
          "base_uri": "https://localhost:8080/"
        }
      },
      "source": [
        "name = input(\"What's your name? \")\n",
        "print (\"Hi, {}, how are you? \". format(name))\n",
        "\n",
        "age = input (\"How old are you {}? \". format(name))\n",
        "print (\"Great, {}, I am {} too! \". format(name, age))\n",
        "\n",
        "city = input (\"Which city are you from, {}? \". format(name))\n",
        "print (\"What a coincidence, I am from {} too! \". format(city))\n",
        "\n",
        "print (\"{}, here is your record...\". format(name))\n",
        "print (\"NAME\\tAGE\\tCITY\\n................................\")\n",
        "print (\"{}\\t{}\\t{}\\n................................\". format(name,age,city))\n"
      ],
      "execution_count": null,
      "outputs": [
        {
          "output_type": "stream",
          "text": [
            "What's your name? Fluke\n",
            "Hi, Fluke, how are you? \n",
            "How old are you Fluke? 25\n",
            "Great, Fluke, I am 25 too! \n",
            "Which city are you from, Fluke? Sandown\n",
            "What a coincidence, I am from Sandown too! \n",
            "Fluke, here is your record...\n",
            "NAME\tAGE\tCITY\n",
            "..................................\n",
            "Fluke\t25\tSandown\n",
            "................................\n"
          ],
          "name": "stdout"
        }
      ]
    }
  ]
}